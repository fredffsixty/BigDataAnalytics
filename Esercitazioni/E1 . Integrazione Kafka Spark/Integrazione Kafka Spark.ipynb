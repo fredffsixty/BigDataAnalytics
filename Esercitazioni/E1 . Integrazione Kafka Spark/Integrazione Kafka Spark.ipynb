{
 "cells": [
  {
   "cell_type": "markdown",
   "metadata": {},
   "source": [
    "# Architettura di Kafka\n",
    "\n",
    "## Topic\n",
    "\n",
    "![Topic](https://miro.medium.com/max/4800/1*QssD-sG_L5rGzwP2TbpMuQ.webp \"Topic\")"
   ]
  },
  {
   "cell_type": "markdown",
   "metadata": {},
   "source": [
    "## Broker\n",
    "\n",
    "![Broker](https://miro.medium.com/max/4800/1*Mp8m-nnX1L4LpMmgonhSZA.webp \"Broker\")"
   ]
  },
  {
   "cell_type": "markdown",
   "metadata": {},
   "source": [
    "## Partizioni\n",
    "\n",
    "![Partizioni](https://miro.medium.com/max/4800/1*llGE-5Cgf2dXdUHVSuZL8w.webp \"Partizioni\")"
   ]
  },
  {
   "cell_type": "markdown",
   "metadata": {},
   "source": [
    "## Producer\n",
    "\n",
    "![Producer](https://miro.medium.com/max/4800/1*F1bHGiLwS-MwlO9M0Ziktw.webp \"Producer\")"
   ]
  },
  {
   "cell_type": "markdown",
   "metadata": {},
   "source": [
    "## Consumer\n",
    "\n",
    "![Consumer](https://miro.medium.com/max/1400/1*t1YCrA_3ucJs7zBOM3v5bg.webp \"Consumer\")"
   ]
  },
  {
   "cell_type": "markdown",
   "metadata": {},
   "source": [
    "## Uso di Zookeeper\n",
    "\n",
    "![Zookeeper](https://miro.medium.com/max/4800/1*_vvrISaOtrVFV7lq4DO5bA.webp \"Zookeeper\")"
   ]
  },
  {
   "cell_type": "markdown",
   "metadata": {},
   "source": [
    "## Architettura generale\n",
    "\n",
    "![Generale](https://miro.medium.com/max/1400/1*ZTA4pEuZZwc544vstwZ5Hw.webp \"Architettura\")"
   ]
  },
  {
   "cell_type": "markdown",
   "metadata": {},
   "source": [
    "## Note di installazione\n",
    "\n",
    "Un buon tutorial per Unix/Mac si può trovare al seguente [link](https://www.digitalocean.com/community/tutorials/how-to-install-apache-kafka-on-ubuntu-18-04). Essenzialmente, l'installazione prevede la creazione di un utente `kafka` che abbia anche i privilegi di _sudoer_ e l'opportuna modifica del file di configurazione che si trova in `<CARTELLA DI INSTALLAZIONE>/config/server.properties`. Addizionalmente si può configurare `Kafka` come servizio che parte al bootstrap e fa partire automaticamente anche `Zookeeper`.\n",
    "\n",
    "Inoltre, può essere sempre utile aggiungere al proprio `PATH` il percorso di esecuzione di `Kafka`:\n",
    "\n",
    "```bash\n",
    "export KAFKA_HOME=/home/kafka/kafka\n",
    "export PATH=$PATH:$KAFKA_HOME/bin\n",
    "````\n",
    "\n",
    "\n",
    "Le ultime versioni di Kafka supportano delle opzioni da linea di comando differenti per fare riferimento a `Zookeeper` e anche la porta di default è cambiata, per cui l'opzione `--zookeeper localhost:2181` è stata sostituita da `--bootstrap-server localhost:9092`.\n",
    "\n"
   ]
  },
  {
   "cell_type": "markdown",
   "metadata": {},
   "source": [
    "## Comandi principali\n",
    "\n",
    "- Avvio manuale dei server\n",
    "    ```bash\n",
    "    zookeeper-server-start $KAFKA_HOME/config/zookeeper.properties\n",
    "    kafka-server-start $KAFKA_HOME/config/server.properties\n",
    "    ````\n",
    "\n",
    "- Creazione/cancellazione di un topic\n",
    "    ```bash\n",
    "    kafka-topics --bootstrap-server localhost:9092 --create --replication-factor 1 --partitions 1 --topic <nome_del_topic>\n",
    "    kafka-topics --bootstrap-server localhost:9092 --delete --topic <nome_del_topic>\n",
    "   ````\n",
    "\n",
    "- Descrizione/lista dei topic\n",
    "    ```bash\n",
    "    kafka-topics --bootstrap-server localhost:9092 --describe --topic <nome_del_topic>\n",
    "    kafka-topics --bootstrap-server localhost:9092 --list\n",
    "    ````\n",
    "\n",
    "- Creazione di un producer/consumer sul topic\n",
    "    ```bash\n",
    "    kafka-console-producer --bootstrap-server localhost:9092 --topic <nome_del_topic>\n",
    "    kafka-console-consumer --bootstrap-server localhost:9092 --topic <nome_del_topic>\n",
    "    ```"
   ]
  },
  {
   "cell_type": "markdown",
   "metadata": {},
   "source": [
    "## Interfaccia Kafka in Python\n",
    "\n",
    "Va installato il pacchetto `kafka-python`, usando:\n",
    "\n",
    "```bash\n",
    "pip install kafka-python\n",
    "```\n",
    "\n",
    "Il pacchetto consente di definire un oggetto `KafkaProducer` ed un `KafkaConsumer`:\n",
    "\n",
    "```python\n",
    "from kafka import KafkaProducer, KafkaConsumer\n",
    "\n",
    "kafka_producer_obj = KafkaProducer(bootstrap_servers=_lista_server_)\n",
    "kafka_producer_obj.send(_nome_del_topic_, _stringa_messaggio_)\n",
    "\n",
    "consumer = KafkaConsumer(_nome_del_topic_,\\\n",
    "                                bootstrap_servers=_lista_server_,\\\n",
    "                                auto_offset_reset='latest',\\\n",
    "                                enable_auto_commit=True)\n",
    "\n",
    "```\n",
    "\n",
    "l'oggetto `consumer` è un iterabile da cui si scorrono i messaggi pubblicati nel topic."
   ]
  },
  {
   "cell_type": "code",
   "execution_count": null,
   "metadata": {},
   "outputs": [],
   "source": []
  }
 ],
 "metadata": {
  "kernelspec": {
   "display_name": "Python 3.10.8 ('hadoop': venv)",
   "language": "python",
   "name": "python3"
  },
  "language_info": {
   "name": "python",
   "version": "3.10.8"
  },
  "orig_nbformat": 4,
  "vscode": {
   "interpreter": {
    "hash": "7553610f36a6045c2ac2337af6058c76912cf39c898d6f43a14b359d55f82e5b"
   }
  }
 },
 "nbformat": 4,
 "nbformat_minor": 2
}
