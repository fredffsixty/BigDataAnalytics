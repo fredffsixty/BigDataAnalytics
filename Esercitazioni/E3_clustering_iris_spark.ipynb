{
 "cells": [
  {
   "cell_type": "code",
   "execution_count": 3,
   "metadata": {},
   "outputs": [
    {
     "name": "stdout",
     "output_type": "stream",
     "text": [
      "24/05/03 10:25:29 WARN Utils: Your hostname, deeplearning resolves to a loopback address: 127.0.1.1; using 147.163.26.113 instead (on interface enp6s0)\n",
      "24/05/03 10:25:29 WARN Utils: Set SPARK_LOCAL_IP if you need to bind to another address\n"
     ]
    },
    {
     "name": "stderr",
     "output_type": "stream",
     "text": [
      "Setting default log level to \"WARN\".\n",
      "To adjust logging level use sc.setLogLevel(newLevel). For SparkR, use setLogLevel(newLevel).\n"
     ]
    },
    {
     "name": "stdout",
     "output_type": "stream",
     "text": [
      "24/05/03 10:25:33 WARN NativeCodeLoader: Unable to load native-hadoop library for your platform... using builtin-java classes where applicable\n"
     ]
    }
   ],
   "source": [
    "# Inizializziamo la nostra applicazione Spark\n",
    "import findspark\n",
    "\n",
    "location = findspark.find()\n",
    "findspark.init(location)\n",
    "\n",
    "from pyspark.sql import SparkSession\n",
    "from pyspark.sql.functions import *\n",
    "\n",
    "spark = SparkSession.builder.appName(\"Clustering K-means di IRIS\").getOrCreate()"
   ]
  },
  {
   "cell_type": "code",
   "execution_count": 5,
   "metadata": {},
   "outputs": [
    {
     "name": "stdout",
     "output_type": "stream",
     "text": [
      "24/05/03 10:40:12 WARN SparkContext: The path https://www.csie.ntu.edu.tw/~cjlin/libsvmtools/datasets/multiclass/iris.scale has been added already. Overwriting of added paths is not supported in the current version.\n"
     ]
    },
    {
     "name": "stderr",
     "output_type": "stream",
     "text": [
      "                                                                                \r"
     ]
    },
    {
     "name": "stdout",
     "output_type": "stream",
     "text": [
      "+-----+--------------------+\n",
      "|label|            features|\n",
      "+-----+--------------------+\n",
      "|  1.0|(4,[0,1,2,3],[-0....|\n",
      "|  1.0|(4,[0,1,2,3],[-0....|\n",
      "|  1.0|(4,[0,2,3],[-0.77...|\n",
      "|  1.0|(4,[0,1,2,3],[-0....|\n",
      "|  1.0|(4,[0,1,2,3],[-0....|\n",
      "|  1.0|(4,[0,1,2,3],[-0....|\n",
      "|  1.0|(4,[0,1,2,3],[-0....|\n",
      "|  1.0|(4,[0,1,2,3],[-0....|\n",
      "|  1.0|(4,[0,1,2,3],[-0....|\n",
      "|  1.0|(4,[0,1,2,3],[-0....|\n",
      "|  1.0|(4,[0,1,2,3],[-0....|\n",
      "|  1.0|(4,[0,1,2,3],[-0....|\n",
      "|  1.0|(4,[0,1,2,3],[-0....|\n",
      "|  1.0|(4,[0,1,2,3],[-1....|\n",
      "|  1.0|(4,[0,1,2,3],[-0....|\n",
      "|  1.0|(4,[0,1,2,3],[-0....|\n",
      "|  1.0|(4,[0,1,2,3],[-0....|\n",
      "|  1.0|(4,[0,1,2,3],[-0....|\n",
      "|  1.0|(4,[0,1,2,3],[-0....|\n",
      "|  1.0|(4,[0,1,2,3],[-0....|\n",
      "+-----+--------------------+\n",
      "only showing top 20 rows\n",
      "\n"
     ]
    },
    {
     "name": "stderr",
     "output_type": "stream",
     "text": [
      "                                                                                \r"
     ]
    },
    {
     "name": "stdout",
     "output_type": "stream",
     "text": [
      "Row(label=1.0, features=SparseVector(4, {0: -0.5556, 1: 0.25, 2: -0.8644, 3: -0.9167}))\n"
     ]
    },
    {
     "data": {
      "text/plain": [
       "[StructField('label', DoubleType(), True),\n",
       " StructField('features', VectorUDT(), True)]"
      ]
     },
     "execution_count": 5,
     "metadata": {},
     "output_type": "execute_result"
    }
   ],
   "source": [
    "# SparkFiles consente la lettura di file esterni\n",
    "from pyspark import SparkFiles\n",
    "\n",
    "data_url = \"https://www.csie.ntu.edu.tw/~cjlin/libsvmtools/datasets/multiclass/iris.scale\"\n",
    "\n",
    "# Aggiungiamo la url nel context della nostra spark application\n",
    "spark.sparkContext.addFile(data_url)\n",
    "\n",
    "# Leggiamo i dati dalla url\n",
    "irisdf = spark.read.format('libsvm').option('numFeatures','4')\\\n",
    "              .load('file://'+SparkFiles.get('iris.scale'))\n",
    "              \n",
    "# mostriamo il dataframe\n",
    "irisdf.show()\n",
    "\n",
    "# mostriamo anche il dato grezzo e lo schema\n",
    "print(irisdf.collect()[0])\n",
    "\n",
    "irisdf.schema.fields"
   ]
  },
  {
   "cell_type": "code",
   "execution_count": 6,
   "metadata": {},
   "outputs": [
    {
     "name": "stdout",
     "output_type": "stream",
     "text": [
      "+-----+--------------------+\n",
      "|label|            features|\n",
      "+-----+--------------------+\n",
      "|    1|(4,[0,1,2,3],[-0....|\n",
      "|    1|(4,[0,1,2,3],[-0....|\n",
      "|    1|(4,[0,2,3],[-0.77...|\n",
      "|    1|(4,[0,1,2,3],[-0....|\n",
      "|    1|(4,[0,1,2,3],[-0....|\n",
      "|    1|(4,[0,1,2,3],[-0....|\n",
      "|    1|(4,[0,1,2,3],[-0....|\n",
      "|    1|(4,[0,1,2,3],[-0....|\n",
      "|    1|(4,[0,1,2,3],[-0....|\n",
      "|    1|(4,[0,1,2,3],[-0....|\n",
      "|    1|(4,[0,1,2,3],[-0....|\n",
      "|    1|(4,[0,1,2,3],[-0....|\n",
      "|    1|(4,[0,1,2,3],[-0....|\n",
      "|    1|(4,[0,1,2,3],[-1....|\n",
      "|    1|(4,[0,1,2,3],[-0....|\n",
      "|    1|(4,[0,1,2,3],[-0....|\n",
      "|    1|(4,[0,1,2,3],[-0....|\n",
      "|    1|(4,[0,1,2,3],[-0....|\n",
      "|    1|(4,[0,1,2,3],[-0....|\n",
      "|    1|(4,[0,1,2,3],[-0....|\n",
      "+-----+--------------------+\n",
      "only showing top 20 rows\n",
      "\n",
      "Row(label=1, features=SparseVector(4, {0: -0.5556, 1: 0.25, 2: -0.8644, 3: -0.9167}))\n"
     ]
    },
    {
     "data": {
      "text/plain": [
       "[StructField('label', IntegerType(), True),\n",
       " StructField('features', VectorUDT(), True)]"
      ]
     },
     "execution_count": 6,
     "metadata": {},
     "output_type": "execute_result"
    }
   ],
   "source": [
    "# trasformiamo il dataframe inserendo una label intera\n",
    "irisdf = irisdf.withColumn('label',irisdf['label'].cast('integer'))\n",
    "\n",
    "# mostriamo il dataframe\n",
    "irisdf.show()\n",
    "\n",
    "# mostriamo anche il dato grezzo e lo schema\n",
    "print(irisdf.collect()[0])\n",
    "\n",
    "irisdf.schema.fields"
   ]
  },
  {
   "cell_type": "code",
   "execution_count": 7,
   "metadata": {},
   "outputs": [
    {
     "name": "stderr",
     "output_type": "stream",
     "text": [
      "                                                                                \r"
     ]
    },
    {
     "name": "stdout",
     "output_type": "stream",
     "text": [
      "24/05/03 11:22:55 WARN LAPACK: Failed to load implementation from: com.github.fommil.netlib.NativeSystemLAPACK\n",
      "24/05/03 11:22:55 WARN LAPACK: Failed to load implementation from: com.github.fommil.netlib.NativeRefLAPACK\n"
     ]
    },
    {
     "data": {
      "text/plain": [
       "[(0, PCAModel: uid=PCA_df9264d43913, k=2),\n",
       " (1, PCAModel: uid=PCA_df9264d43913, k=3),\n",
       " (2, PCAModel: uid=PCA_df9264d43913, k=4)]"
      ]
     },
     "execution_count": 7,
     "metadata": {},
     "output_type": "execute_result"
    }
   ],
   "source": [
    "# Eseguiamo l'analisi PCA del nostro data set\n",
    "from pyspark.ml.feature import PCA\n",
    "from pyspark.ml.tuning import ParamGridBuilder\n",
    "\n",
    "# Inizializziamo la PCA\n",
    "pca = PCA(inputCol='features')\n",
    "\n",
    "# creiamo la lista dei valori di dimensioni da provare\n",
    "dimensions = ParamGridBuilder().addGrid(pca.k,[2,3,4]).build()\n",
    "\n",
    "# Creiamo la lista dei modelli addestrati sul data set\n",
    "models = list(pca.fitMultiple(irisdf, dimensions))\n",
    "\n",
    "models"
   ]
  },
  {
   "cell_type": "code",
   "execution_count": 8,
   "metadata": {},
   "outputs": [
    {
     "name": "stderr",
     "output_type": "stream",
     "text": [
      "                                                                                \r"
     ]
    },
    {
     "name": "stdout",
     "output_type": "stream",
     "text": [
      "[1.3981560820639132,-0.05812243525603352]\n",
      "[1.3981560820639132,-0.05812243525603352,0.020025868517133616]\n",
      "[1.3981560820639132,-0.05812243525603352,0.020025868517133616,0.0007981050882169827]\n"
     ]
    }
   ],
   "source": [
    "# Generiamo i data set trasformati secondo le diverse applicazione della PCA\n",
    "transformed_df = []\n",
    "\n",
    "for model in models:\n",
    "    model[1].setOutputCol('output')\n",
    "    transformed_df.append(model[1].transform(irisdf))\n",
    "    print(transformed_df[-1].collect()[0].output)\n",
    "\n",
    "    "
   ]
  },
  {
   "cell_type": "code",
   "execution_count": 9,
   "metadata": {},
   "outputs": [
    {
     "name": "stdout",
     "output_type": "stream",
     "text": [
      "+-----+--------------------+--------------------+\n",
      "|label|            features|              output|\n",
      "+-----+--------------------+--------------------+\n",
      "|    1|(4,[0,1,2,3],[-0....|[1.39815608206391...|\n",
      "|    1|(4,[0,1,2,3],[-0....|[1.38452609435504...|\n",
      "|    1|(4,[0,2,3],[-0.77...|[1.47701888820606...|\n",
      "|    1|(4,[0,1,2,3],[-0....|[1.44669890065234...|\n",
      "|    1|(4,[0,1,2,3],[-0....|[1.43395982931108...|\n",
      "|    1|(4,[0,1,2,3],[-0....|[1.20554713198149...|\n",
      "|    1|(4,[0,1,2,3],[-0....|[1.45022462287372...|\n",
      "|    1|(4,[0,1,2,3],[-0....|[1.38872088090427...|\n",
      "|    1|(4,[0,1,2,3],[-0....|[1.49048486809967...|\n",
      "|    1|(4,[0,1,2,3],[-0....|[1.42970722641363...|\n",
      "|    1|(4,[0,1,2,3],[-0....|[1.33074280270732...|\n",
      "|    1|(4,[0,1,2,3],[-0....|[1.41509046838609...|\n",
      "|    1|(4,[0,1,2,3],[-0....|[1.46204262568111...|\n",
      "|    1|(4,[0,1,2,3],[-1....|[1.64283342683392...|\n",
      "|    1|(4,[0,1,2,3],[-0....|[1.33541952445100...|\n",
      "|    1|(4,[0,1,2,3],[-0....|[1.23731920522263...|\n",
      "|    1|(4,[0,1,2,3],[-0....|[1.28908665986732...|\n",
      "|    1|(4,[0,1,2,3],[-0....|[1.34426584912909...|\n",
      "|    1|(4,[0,1,2,3],[-0....|[1.17637823027523...|\n",
      "|    1|(4,[0,1,2,3],[-0....|[1.35991105773596...|\n",
      "+-----+--------------------+--------------------+\n",
      "only showing top 20 rows\n",
      "\n"
     ]
    }
   ],
   "source": [
    "transformed_df[0].show()"
   ]
  },
  {
   "cell_type": "code",
   "execution_count": 11,
   "metadata": {},
   "outputs": [
    {
     "name": "stdout",
     "output_type": "stream",
     "text": [
      "Varianza totale del modello a 2 dimensioni:         0.96\n",
      "Varianza totale del modello a 3 dimensioni:         0.99\n",
      "Varianza totale del modello a 4 dimensioni:         1.00\n"
     ]
    }
   ],
   "source": [
    "# Calcoliamo la varianza totale dei tre modelli\n",
    "import numpy as np\n",
    "\n",
    "for model in models:\n",
    "    print(f'Varianza totale del modello a {model[1].getK()} dimensioni: \\\n",
    "        {np.sum(model[1].explainedVariance.toArray()):4.2f}')"
   ]
  },
  {
   "cell_type": "code",
   "execution_count": 19,
   "metadata": {},
   "outputs": [
    {
     "data": {
      "image/png": "[encoded data removed]",
      "text/plain": [
       "<Figure size 640x480 with 1 Axes>"
      ]
     },
     "metadata": {},
     "output_type": "display_data"
    }
   ],
   "source": [
    "# Eseguiamo l'elbow method per determinare il numero ottimale di cluster\n",
    "# Lavoriamo sul data frame trasformato con la PCA a due dimensioni\n",
    "from pyspark.ml.clustering import KMeans\n",
    "import matplotlib.pyplot as pl\n",
    "\n",
    "wccs = np.zeros(9)\n",
    "\n",
    "kmeans = KMeans()\\\n",
    "        .setFeaturesCol('features')\\\n",
    "        .setInitMode('k-means||')\\\n",
    "        .setMaxIter(500)\\\n",
    "        .setSeed(42)\\\n",
    "        .setPredictionCol('cluster')\n",
    "\n",
    "k_values = ParamGridBuilder().addGrid(kmeans.k, [2, 3, 4, 5, 6, 7, 8, 9, 10]).build()\n",
    "\n",
    "k_models = list(kmeans.fitMultiple(transformed_df[0],k_values))\n",
    "\n",
    "for k in range(9):\n",
    "    wccs[k] = k_models[k][1].summary.trainingCost\n",
    "\n",
    "pl.plot([2, 3, 4, 5, 6, 7, 8, 9, 10],wccs)\n",
    "pl.ylim(0,50)\n",
    "pl.xlabel('Cluster')\n",
    "pl.ylabel('WCCS')\n",
    "pl.title('Elbow method')\n",
    "pl.show()\n"
   ]
  }
 ],
 "metadata": {
  "kernelspec": {
   "display_name": "hadoop",
   "language": "python",
   "name": "python3"
  },
  "language_info": {
   "codemirror_mode": {
    "name": "ipython",
    "version": 3
   },
   "file_extension": ".py",
   "mimetype": "text/x-python",
   "name": "python",
   "nbconvert_exporter": "python",
   "pygments_lexer": "ipython3",
   "version": "3.10.8"
  }
 },
 "nbformat": 4,
 "nbformat_minor": 2
}
