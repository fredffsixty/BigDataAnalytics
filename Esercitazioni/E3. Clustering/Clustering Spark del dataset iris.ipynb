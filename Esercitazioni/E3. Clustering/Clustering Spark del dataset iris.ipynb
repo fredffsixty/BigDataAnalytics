{
 "cells": [
  {
   "attachments": {},
   "cell_type": "markdown",
   "metadata": {},
   "source": [
    "# Clustering del dataset Iris con l'algoritmo K-means tramite Spark\n",
    "\n",
    "Ripeteremo la procedura di clustering del data set Iris tramite Spark. Per simulare l'acquisizione da uno storage e non riutilizzare sci-kit learn, acquisiremo il [data set](https://www.csie.ntu.edu.tw/~cjlin/libsvmtools/datasets/multiclass/iris.scale) dal repository della libreria [LibSVM](https://www.csie.ntu.edu.tw/~cjlin/libsvm/index.html) anche perché il formato `libsvm` è uno di quelli riconosciuti dal dataframe reader di Spark.\n",
    "\n",
    "Inizializziamo dapprima la nostra applicazione:"
   ]
  },
  {
   "cell_type": "code",
   "execution_count": 1,
   "metadata": {},
   "outputs": [
    {
     "name": "stdout",
     "output_type": "stream",
     "text": [
      "23/04/05 16:27:00 WARN Utils: Your hostname, deeplearning resolves to a loopback address: 127.0.1.1; using 147.163.26.113 instead (on interface enp6s0)\n",
      "23/04/05 16:27:00 WARN Utils: Set SPARK_LOCAL_IP if you need to bind to another address\n"
     ]
    },
    {
     "name": "stderr",
     "output_type": "stream",
     "text": [
      "Setting default log level to \"WARN\".\n",
      "To adjust logging level use sc.setLogLevel(newLevel). For SparkR, use setLogLevel(newLevel).\n"
     ]
    },
    {
     "name": "stdout",
     "output_type": "stream",
     "text": [
      "23/04/05 16:27:01 WARN NativeCodeLoader: Unable to load native-hadoop library for your platform... using builtin-java classes where applicable\n",
      "23/04/05 16:27:04 WARN Utils: Service 'SparkUI' could not bind on port 4040. Attempting port 4041.\n"
     ]
    }
   ],
   "source": [
    "# inizializziamo la SparkSession e importiamo le librerie\n",
    "import findspark\n",
    "\n",
    "location = findspark.find()\n",
    "findspark.init(location)\n",
    "\n",
    "from pyspark.sql import SparkSession\n",
    "from pyspark.sql.functions import *\n",
    "\n",
    "spark = SparkSession \\\n",
    "    .builder \\\n",
    "    .appName(\"K-means clustering of Iris data set in Spark\") \\\n",
    "    .getOrCreate()"
   ]
  },
  {
   "attachments": {},
   "cell_type": "markdown",
   "metadata": {},
   "source": [
    "Acquisiamo il dataframe dal flusso HTTP."
   ]
  },
  {
   "cell_type": "code",
   "execution_count": 2,
   "metadata": {},
   "outputs": [
    {
     "name": "stderr",
     "output_type": "stream",
     "text": [
      "                                                                                \r"
     ]
    },
    {
     "name": "stdout",
     "output_type": "stream",
     "text": [
      "+-----+--------------------+\n",
      "|label|            features|\n",
      "+-----+--------------------+\n",
      "|  1.0|(4,[0,1,2,3],[-0....|\n",
      "|  1.0|(4,[0,1,2,3],[-0....|\n",
      "|  1.0|(4,[0,2,3],[-0.77...|\n",
      "|  1.0|(4,[0,1,2,3],[-0....|\n",
      "|  1.0|(4,[0,1,2,3],[-0....|\n",
      "|  1.0|(4,[0,1,2,3],[-0....|\n",
      "|  1.0|(4,[0,1,2,3],[-0....|\n",
      "|  1.0|(4,[0,1,2,3],[-0....|\n",
      "|  1.0|(4,[0,1,2,3],[-0....|\n",
      "|  1.0|(4,[0,1,2,3],[-0....|\n",
      "|  1.0|(4,[0,1,2,3],[-0....|\n",
      "|  1.0|(4,[0,1,2,3],[-0....|\n",
      "|  1.0|(4,[0,1,2,3],[-0....|\n",
      "|  1.0|(4,[0,1,2,3],[-1....|\n",
      "|  1.0|(4,[0,1,2,3],[-0....|\n",
      "|  1.0|(4,[0,1,2,3],[-0....|\n",
      "|  1.0|(4,[0,1,2,3],[-0....|\n",
      "|  1.0|(4,[0,1,2,3],[-0....|\n",
      "|  1.0|(4,[0,1,2,3],[-0....|\n",
      "|  1.0|(4,[0,1,2,3],[-0....|\n",
      "+-----+--------------------+\n",
      "only showing top 20 rows\n",
      "\n",
      "Row(label=1.0, features=SparseVector(4, {0: -0.5556, 1: 0.25, 2: -0.8644, 3: -0.9167}))\n"
     ]
    },
    {
     "data": {
      "text/plain": [
       "[StructField('label', DoubleType(), True),\n",
       " StructField('features', VectorUDT(), True)]"
      ]
     },
     "execution_count": 2,
     "metadata": {},
     "output_type": "execute_result"
    }
   ],
   "source": [
    "from pyspark import SparkFiles\n",
    "\n",
    "data_url = \"https://www.csie.ntu.edu.tw/~cjlin/libsvmtools/datasets/multiclass/iris.scale\"\n",
    "\n",
    "# aggiungiamo allo SparkContext l'URL del nostro flusso dati\n",
    "spark.sparkContext.addFile(data_url)\n",
    "\n",
    "# possiamo usare direttamente il metodo read() su una copia locale dell'URL\n",
    "irisdf = spark.read.format(\"libsvm\")\\\n",
    "    .option('numFeatures','4')\\\n",
    "    .load(\"file://\"+SparkFiles.get('iris.scale'))\n",
    "\n",
    "# mostriamo il dataframe e il suo schema\n",
    "irisdf.show()\n",
    "\n",
    "print(irisdf.collect()[0])\n",
    "\n",
    "irisdf.schema.fields\n"
   ]
  },
  {
   "attachments": {},
   "cell_type": "markdown",
   "metadata": {},
   "source": [
    "Lo schema non è ancora adatto ai nostri scopi perché le etichette sono dei float e ne facciamo il cast ad intero. Il tipo Vector dei dati, nel nostro caso SparseVector, è invece adatto all'uso degli algoritmi di ML in Spark."
   ]
  },
  {
   "cell_type": "code",
   "execution_count": 3,
   "metadata": {},
   "outputs": [
    {
     "name": "stdout",
     "output_type": "stream",
     "text": [
      "+-----+--------------------+\n",
      "|label|            features|\n",
      "+-----+--------------------+\n",
      "|    1|(4,[0,1,2,3],[-0....|\n",
      "|    1|(4,[0,1,2,3],[-0....|\n",
      "|    1|(4,[0,2,3],[-0.77...|\n",
      "|    1|(4,[0,1,2,3],[-0....|\n",
      "|    1|(4,[0,1,2,3],[-0....|\n",
      "|    1|(4,[0,1,2,3],[-0....|\n",
      "|    1|(4,[0,1,2,3],[-0....|\n",
      "|    1|(4,[0,1,2,3],[-0....|\n",
      "|    1|(4,[0,1,2,3],[-0....|\n",
      "|    1|(4,[0,1,2,3],[-0....|\n",
      "|    1|(4,[0,1,2,3],[-0....|\n",
      "|    1|(4,[0,1,2,3],[-0....|\n",
      "|    1|(4,[0,1,2,3],[-0....|\n",
      "|    1|(4,[0,1,2,3],[-1....|\n",
      "|    1|(4,[0,1,2,3],[-0....|\n",
      "|    1|(4,[0,1,2,3],[-0....|\n",
      "|    1|(4,[0,1,2,3],[-0....|\n",
      "|    1|(4,[0,1,2,3],[-0....|\n",
      "|    1|(4,[0,1,2,3],[-0....|\n",
      "|    1|(4,[0,1,2,3],[-0....|\n",
      "+-----+--------------------+\n",
      "only showing top 20 rows\n",
      "\n",
      "Row(label=1, features=SparseVector(4, {0: -0.5556, 1: 0.25, 2: -0.8644, 3: -0.9167}))\n"
     ]
    },
    {
     "data": {
      "text/plain": [
       "[StructField('label', IntegerType(), True),\n",
       " StructField('features', VectorUDT(), True)]"
      ]
     },
     "execution_count": 3,
     "metadata": {},
     "output_type": "execute_result"
    }
   ],
   "source": [
    "# eseguiamo il cast della colonna 'label'\n",
    "irisdf=irisdf.withColumn('label',irisdf['label'].cast('integer'))\n",
    "\n",
    "irisdf.show()\n",
    "\n",
    "print(irisdf.collect()[0])\n",
    "\n",
    "irisdf.schema.fields\n",
    "\n"
   ]
  },
  {
   "attachments": {},
   "cell_type": "markdown",
   "metadata": {},
   "source": [
    "## Breve introduzione sulla libreria `ml` di Spark\n",
    "\n",
    "La libreria `ml` lavora sui DataFrame, mentre la libreria `mllib` è la controparte sui RDD. La libreria `ml` fornisce l'accesso a diverse classi per la gestione della feature selection, dei modelli veri e propri, la ricerca degli iperparametri e la valutazione dei modelli.\n",
    "\n",
    "Un'altra caratteristica di `ml` è i lconcetto di _pipeline di machine learning_. Una pipeline è una sequenza ordinata di:\n",
    "\n",
    "- `Transformer`: algoritmi che trasformano effettivamente un dataframe cpon il metodo `transform()`\n",
    "- `Estimator` algoritmi che si addestrano sui dati per generare un `Transformer` con il metodo `fit()` che usa la _eager execution_ ovvero l'esecuzione immediata\n",
    "- `Evaluator`: algoritmi di calcolo dei criteri di valutazione delle performance\n",
    "\n",
    "Un modello di machine learning è un `Estimator` che, opportunamente parametrizzato e addestrato, genera un `Transformer` cioè il modello che trasforma feature in predizioni. Sono `Transformer` anche gli algoritmi di gestione delle feature in ingresso e uscita.\n",
    "\n",
    "Infine la `Pipeline` si costruisce assemblando i diversi stadi del processo e può contenere anche algoritmi per il tuning degli iperparametri, attraverso la costruzione di una griglia di ricerca (`ParamGridBuilder`) ovvero la cross-validation (`CrossValidator`)."
   ]
  },
  {
   "attachments": {},
   "cell_type": "markdown",
   "metadata": {},
   "source": [
    "## Analisi PCA del data set\n",
    "Eseguiremo adesso l'analisi PCA per individuare il numero di dimensioni sufficiente ad assicurarci un buon clustering."
   ]
  },
  {
   "cell_type": "code",
   "execution_count": 4,
   "metadata": {},
   "outputs": [
    {
     "name": "stderr",
     "output_type": "stream",
     "text": [
      "                                                                                \r"
     ]
    },
    {
     "name": "stdout",
     "output_type": "stream",
     "text": [
      "23/04/05 16:41:46 WARN LAPACK: Failed to load implementation from: com.github.fommil.netlib.NativeSystemLAPACK\n",
      "23/04/05 16:41:46 WARN LAPACK: Failed to load implementation from: com.github.fommil.netlib.NativeRefLAPACK\n"
     ]
    }
   ],
   "source": [
    "# importiamo la classe PCA e la ParamGridBuilder per utilizzare diversi valori di troncamento k\n",
    "from pyspark.ml.feature import PCA\n",
    "from pyspark.ml.tuning import ParamGridBuilder\n",
    "\n",
    "# Creiamo un dataframe con ii soli campioni da analizzare, senza le label\n",
    "#data = irisdf.drop('label')\n",
    "\n",
    "# Creiamo il modello PCA (Estimator)\n",
    "pca = PCA(inputCol='features')\n",
    "\n",
    "# Costruiamo la lista degli iperparametri k da provare\n",
    "k_values = ParamGridBuilder().addGrid(pca.k,[2, 3, 4]).build() \n",
    "\n",
    "# Costruiamo una lista dei modelli multipli generati al variare di k\n",
    "# questi sono Transformer\n",
    "models = list(pca.fitMultiple(irisdf,k_values))\n",
    "\n",
    "    "
   ]
  },
  {
   "cell_type": "code",
   "execution_count": 5,
   "metadata": {},
   "outputs": [
    {
     "data": {
      "text/plain": [
       "[(0, PCAModel: uid=PCA_7b62c4ed24c5, k=2),\n",
       " (1, PCAModel: uid=PCA_7b62c4ed24c5, k=3),\n",
       " (2, PCAModel: uid=PCA_7b62c4ed24c5, k=4)]"
      ]
     },
     "execution_count": 5,
     "metadata": {},
     "output_type": "execute_result"
    }
   ],
   "source": [
    "models"
   ]
  },
  {
   "cell_type": "code",
   "execution_count": 8,
   "metadata": {},
   "outputs": [
    {
     "name": "stdout",
     "output_type": "stream",
     "text": [
      "[1.3981560820639132,-0.05812243525603352]\n",
      "[1.3981560820639132,-0.05812243525603352,0.020025868517133616]\n",
      "[1.3981560820639132,-0.05812243525603352,0.020025868517133616,0.0007981050882169827]\n"
     ]
    }
   ],
   "source": [
    "# Generiamo i data set trasformati con la PCA al variare di k\n",
    "transformed_df = []\n",
    "\n",
    "for model in models:\n",
    "    model[1].setOutputCol(\"output\")\n",
    "    transformed_df.append(model[1].transform(irisdf))\n",
    "    print(transformed_df[-1].collect()[0].output)"
   ]
  },
  {
   "cell_type": "code",
   "execution_count": 9,
   "metadata": {},
   "outputs": [
    {
     "name": "stdout",
     "output_type": "stream",
     "text": [
      "Varianza totale per 2 dimensioni: 0.9587437460336625\n",
      "Varianza totale per 3 dimensioni: 0.9936493936513788\n",
      "Varianza totale per 4 dimensioni: 1.0\n"
     ]
    }
   ],
   "source": [
    "import numpy as np\n",
    "\n",
    "#Calcoliamo la varianza totale dei tre data set trasformati e decidiamo quante componeneit principali utilizzare\n",
    "for model in models:\n",
    "    print(f'Varianza totale per {model[1].getK()} dimensioni: {np.sum(model[1].explainedVariance.toArray())}')"
   ]
  },
  {
   "attachments": {},
   "cell_type": "markdown",
   "metadata": {},
   "source": [
    "Risulta chiaro, come nell'esempio precedente, che è sufficiente lavorare sul data set a due dimensioni. Procederemo all'utilizzo del KMeans con quest'ultimo.\n",
    "\n",
    "Cominceremo con l'applpicazione dell'Elbow method per determinare il numero di cluster."
   ]
  },
  {
   "cell_type": "code",
   "execution_count": 10,
   "metadata": {},
   "outputs": [
    {
     "data": {
      "image/png": "[encoded data removed]",
      "text/plain": [
       "<Figure size 640x480 with 1 Axes>"
      ]
     },
     "metadata": {},
     "output_type": "display_data"
    }
   ],
   "source": [
    "from pyspark.ml.clustering import KMeans\n",
    "import matplotlib.pyplot as pl\n",
    "\n",
    "# Creaiamo un array di valori di wcss\n",
    "wcss = np.zeros(9)\n",
    "\n",
    "# Creiamo il modello:\n",
    "# Inizializzazione 'kmeans++' versione parallela, 300 iterazioni per il calcolo dei centroidi\n",
    "# seme di inizializzazione random pari a 1 e colonna delle predizioni di nome 'cluster'\n",
    "kmeans = KMeans()\\\n",
    "        .setFeaturesCol('features')\\\n",
    "        .setInitMode('k-means||')\\\n",
    "        .setMaxIter(500)\\\n",
    "        .setSeed(30)\\\n",
    "        .setPredictionCol('cluster')\n",
    "\n",
    "# Costruiamo la lista dei valori di k da provare\n",
    "k_values = ParamGridBuilder().addGrid(kmeans.k,[2, 3, 4, 5, 6, 7, 8, 9, 10]).build()\n",
    "\n",
    "# Creiamo la lista dei modelli al variare \n",
    "k_models = list(kmeans.fitMultiple(transformed_df[0],k_values))\n",
    "\n",
    "# il trainingCost contiene esattamente la WCSS per ogni modello di cui è stato fatto il fit\n",
    "for k in range(9):\n",
    "    wcss[k]=k_models[k][1].summary.trainingCost\n",
    "\n",
    "# Facciamo il plot del grafico\n",
    "pl.plot([2,3,4,5,6,7,8,9,10],wcss)\n",
    "pl.ylim(0,50)\n",
    "pl.xlabel('Clusters')\n",
    "pl.ylabel('WCSS')\n",
    "pl.title('Elbow method')\n",
    "pl.show()"
   ]
  },
  {
   "attachments": {},
   "cell_type": "markdown",
   "metadata": {},
   "source": [
    "Come verificato in precedenza, il modello migliore è quello con 3 cluster e lo useremo per predire il clustering dei nostri dati."
   ]
  },
  {
   "cell_type": "code",
   "execution_count": 11,
   "metadata": {},
   "outputs": [],
   "source": [
    "best_model = k_models[1][1]\n",
    "\n",
    "predictions = best_model.transform(transformed_df[0])\n"
   ]
  },
  {
   "attachments": {},
   "cell_type": "markdown",
   "metadata": {},
   "source": [
    "Si può verificare per ispezione diretta sui dataframe `predictions` e `irisdf` invocando banalmente:\n",
    "\n",
    "```python\n",
    "predictions.collect()[_:_]\n",
    "irisdf.collect()[_:_]\n",
    "````\n",
    "\n",
    "su segmenti analoghi dei due dataframe, che sussiste la seguente corrispondenza tra la colonna `label` di `irisdf` e la colonna `cluster` di `predictions`:\n",
    "\n",
    "- `label = 1` corrisponde a `cluster = 0`\n",
    "- `label = 2` corrisponde a `cluster = 2`\n",
    "- `label = 3` corrisponde a `cluster = 1`\n",
    "\n",
    "Per cui procediamo a un remap delle etichette prima di creare una matrice di confusione."
   ]
  },
  {
   "cell_type": "code",
   "execution_count": 12,
   "metadata": {},
   "outputs": [
    {
     "data": {
      "text/plain": [
       "StructType([StructField('label', IntegerType(), True), StructField('features', VectorUDT(), True), StructField('output', VectorUDT(), True), StructField('original_cluster', IntegerType(), False), StructField('cluster', IntegerType(), False)])"
      ]
     },
     "execution_count": 12,
     "metadata": {},
     "output_type": "execute_result"
    }
   ],
   "source": [
    "predictions = predictions.withColumnRenamed('cluster','original_cluster')\n",
    "\n",
    "predictions=predictions.withColumn('cluster',when(predictions.original_cluster == 0,1).\\\n",
    "                        when(predictions.original_cluster== 2,2).\\\n",
    "                        otherwise(3))\n",
    "\n",
    "predictions.schema"
   ]
  },
  {
   "cell_type": "code",
   "execution_count": 13,
   "metadata": {},
   "outputs": [
    {
     "name": "stdout",
     "output_type": "stream",
     "text": [
      "+-----+--------------------+--------------------+----------------+-------+\n",
      "|label|            features|              output|original_cluster|cluster|\n",
      "+-----+--------------------+--------------------+----------------+-------+\n",
      "|    1|(4,[0,1,2,3],[-0....|[1.39815608206391...|               0|      1|\n",
      "|    1|(4,[0,1,2,3],[-0....|[1.38452609435504...|               0|      1|\n",
      "|    1|(4,[0,2,3],[-0.77...|[1.47701888820606...|               0|      1|\n",
      "|    1|(4,[0,1,2,3],[-0....|[1.44669890065234...|               0|      1|\n",
      "|    1|(4,[0,1,2,3],[-0....|[1.43395982931108...|               0|      1|\n",
      "|    1|(4,[0,1,2,3],[-0....|[1.20554713198149...|               0|      1|\n",
      "|    1|(4,[0,1,2,3],[-0....|[1.45022462287372...|               0|      1|\n",
      "|    1|(4,[0,1,2,3],[-0....|[1.38872088090427...|               0|      1|\n",
      "|    1|(4,[0,1,2,3],[-0....|[1.49048486809967...|               0|      1|\n",
      "|    1|(4,[0,1,2,3],[-0....|[1.42970722641363...|               0|      1|\n",
      "|    1|(4,[0,1,2,3],[-0....|[1.33074280270732...|               0|      1|\n",
      "|    1|(4,[0,1,2,3],[-0....|[1.41509046838609...|               0|      1|\n",
      "|    1|(4,[0,1,2,3],[-0....|[1.46204262568111...|               0|      1|\n",
      "|    1|(4,[0,1,2,3],[-1....|[1.64283342683392...|               0|      1|\n",
      "|    1|(4,[0,1,2,3],[-0....|[1.33541952445100...|               0|      1|\n",
      "|    1|(4,[0,1,2,3],[-0....|[1.23731920522263...|               0|      1|\n",
      "|    1|(4,[0,1,2,3],[-0....|[1.28908665986732...|               0|      1|\n",
      "|    1|(4,[0,1,2,3],[-0....|[1.34426584912909...|               0|      1|\n",
      "|    1|(4,[0,1,2,3],[-0....|[1.17637823027523...|               0|      1|\n",
      "|    1|(4,[0,1,2,3],[-0....|[1.35991105773596...|               0|      1|\n",
      "|    1|(4,[0,1,2,3],[-0....|[1.25244279415982...|               0|      1|\n",
      "|    1|(4,[0,1,2,3],[-0....|[1.29384466930048...|               0|      1|\n",
      "|    1|(4,[0,1,2,3],[-0....|[1.61200798805096...|               0|      1|\n",
      "|    1|(4,[0,1,2,3],[-0....|[1.14947817003194...|               0|      1|\n",
      "|    1|(4,[0,1,2,3],[-0....|[1.35243566844546...|               0|      1|\n",
      "|    1|(4,[0,1,2,3],[-0....|[1.31912865200147...|               0|      1|\n",
      "|    1|(4,[0,1,2,3],[-0....|[1.26005633376706...|               0|      1|\n",
      "|    1|(4,[0,1,2,3],[-0....|[1.35364336765554...|               0|      1|\n",
      "|    1|(4,[0,1,2,3],[-0....|[1.36235190952747...|               0|      1|\n",
      "|    1|(4,[0,2,3],[-0.77...|[1.41436408826543...|               0|      1|\n",
      "|    1|(4,[0,1,2,3],[-0....|[1.37855985728011...|               0|      1|\n",
      "|    1|(4,[0,1,2,3],[-0....|[1.18643243085822...|               0|      1|\n",
      "|    1|(4,[0,1,2,3],[-0....|[1.48059405922692...|               0|      1|\n",
      "|    1|(4,[0,1,2,3],[-0....|[1.38888493341308...|               0|      1|\n",
      "|    1|(4,[0,1,2,3],[-0....|[1.42970722641363...|               0|      1|\n",
      "|    1|(4,[0,2,3],[-0.61...|[1.42702193036610...|               0|      1|\n",
      "|    1|(4,[0,1,2,3],[-0....|[1.32453175386580...|               0|      1|\n",
      "|    1|(4,[0,1,2,3],[-0....|[1.42970722641363...|               0|      1|\n",
      "|    1|(4,[0,1,2,3],[-0....|[1.52354639822316...|               0|      1|\n",
      "|    1|(4,[0,1,2,3],[-0....|[1.36509393583539...|               0|      1|\n",
      "|    1|(4,[0,1,2,3],[-0....|[1.38877752214317...|               0|      1|\n",
      "|    1|(4,[0,1,2,3],[-0....|[1.36079131272699...|               0|      1|\n",
      "|    1|(4,[0,2,3],[-0.94...|[1.54790014870196...|               0|      1|\n",
      "|    1|(4,[0,1,2,3],[-0....|[1.16445331675334...|               0|      1|\n",
      "|    1|(4,[0,1,2,3],[-0....|[1.22248194359294...|               0|      1|\n",
      "|    1|(4,[0,1,2,3],[-0....|[1.35426280648910...|               0|      1|\n",
      "|    1|(4,[0,1,2,3],[-0....|[1.39291656272558...|               0|      1|\n",
      "|    1|(4,[0,2,3],[-0.83...|[1.47976110532974...|               0|      1|\n",
      "|    1|(4,[0,1,2,3],[-0....|[1.35436974777620...|               0|      1|\n",
      "|    1|(4,[0,1,2,3],[-0....|[1.39742932049065...|               0|      1|\n",
      "|    2|(4,[0,2,3],[0.5,0...|[-0.4231711041257...|               1|      3|\n",
      "|    2|(4,[0,2,3],[0.166...|[-0.2935287408858...|               1|      3|\n",
      "|    2|(4,[0,1,2,3],[0.4...|[-0.5073807053217...|               1|      3|\n",
      "|    2|(4,[0,1,2,3],[-0....|[0.02172888882484...|               2|      2|\n",
      "|    2|(4,[0,1,2,3],[0.2...|[-0.3867477687352...|               2|      2|\n",
      "|    2|(4,[0,1,2,3],[-0....|[-0.0690659337918...|               2|      2|\n",
      "|    2|(4,[0,1,2,3],[0.1...|[-0.3533835666603...|               1|      3|\n",
      "|    2|(4,[0,1,2,3],[-0....|[0.48353283136146...|               2|      2|\n",
      "|    2|(4,[0,1,2,3],[0.2...|[-0.2904184916249...|               2|      2|\n",
      "|    2|(4,[0,1,2,3],[-0....|[0.10831297425295...|               2|      2|\n",
      "|    2|(4,[0,1,2,3],[-0....|[0.36942803417251...|               2|      2|\n",
      "|    2|(4,[0,1,2,3],[-0....|[-0.1370915053803...|               2|      2|\n",
      "|    2|(4,[0,1,2,3],[-0....|[0.05308571995896...|               2|      2|\n",
      "|    2|(4,[0,1,2,3],[-1....|[-0.2470569683849...|               2|      2|\n",
      "|    2|(4,[0,1,2,3],[-0....|[0.15470263856648...|               2|      2|\n",
      "|    2|(4,[0,1,2,3],[0.3...|[-0.3018114790271...|               1|      3|\n",
      "|    2|(4,[0,1,2,3],[-0....|[-0.1288648043672...|               2|      2|\n",
      "|    2|(4,[0,1,2,3],[-0....|[0.14033944973866...|               2|      2|\n",
      "|    2|(4,[0,1,2,3],[0.0...|[-0.3680426304348...|               2|      2|\n",
      "|    2|(4,[0,1,2,3],[-0....|[0.15112033849481...|               2|      2|\n",
      "+-----+--------------------+--------------------+----------------+-------+\n",
      "only showing top 70 rows\n",
      "\n"
     ]
    }
   ],
   "source": [
    "predictions.show(70)"
   ]
  },
  {
   "cell_type": "code",
   "execution_count": 14,
   "metadata": {},
   "outputs": [
    {
     "name": "stderr",
     "output_type": "stream",
     "text": [
      "/home/rpirrone/virtualenvs/hadoop/lib/python3.10/site-packages/pyspark/sql/context.py:157: FutureWarning: Deprecated in 3.0.0. Use SparkSession.builder.getOrCreate() instead.\n",
      "  warnings.warn(\n",
      "                                                                                \r"
     ]
    }
   ],
   "source": [
    "from pyspark.mllib.evaluation import MulticlassMetrics\n",
    "\n",
    "# selezioniamo le due colonne di predizione ed etichetta per creare un dataframe\n",
    "# ad hoc in cui questi valori sono di tipo double\n",
    "preds = predictions.selectExpr('CAST(cluster AS DOUBLE)','CAST(label AS DOUBLE)')\n",
    "\n",
    "# usiamo la classe MulticlassMetrics di mllib per estrarre la matrice di confusione\n",
    "# e latrasformiamo in un numpy array\n",
    "metrics = MulticlassMetrics(preds.rdd)\n",
    "\n",
    "cf = metrics.confusionMatrix().toArray()\n"
   ]
  },
  {
   "attachments": {},
   "cell_type": "markdown",
   "metadata": {},
   "source": [
    "A questo punto seguiamo l'altra esercitazione per mostrare graficamente i nostri risultati"
   ]
  },
  {
   "cell_type": "code",
   "execution_count": 15,
   "metadata": {},
   "outputs": [
    {
     "data": {
      "text/plain": [
       "array([[50.,  0.,  0.],\n",
       "       [ 0., 40., 10.],\n",
       "       [ 0.,  8., 42.]])"
      ]
     },
     "execution_count": 15,
     "metadata": {},
     "output_type": "execute_result"
    }
   ],
   "source": [
    "cf"
   ]
  },
  {
   "cell_type": "code",
   "execution_count": 16,
   "metadata": {},
   "outputs": [
    {
     "data": {
      "text/plain": [
       "<sklearn.metrics._plot.confusion_matrix.ConfusionMatrixDisplay at 0x7f4509811d80>"
      ]
     },
     "execution_count": 16,
     "metadata": {},
     "output_type": "execute_result"
    },
    {
     "data": {
      "image/png": "[encoded data removed]",
      "text/plain": [
       "<Figure size 640x480 with 2 Axes>"
      ]
     },
     "metadata": {},
     "output_type": "display_data"
    }
   ],
   "source": [
    "# importiamo i package di sci-kit learn per visualizzare la matrice di confusione e poi calcoliamo gli indici\n",
    "from sklearn.metrics import ConfusionMatrixDisplay\n",
    "import matplotlib.pyplot as plt\n",
    "\n",
    "# selezioniamo le singole colonne creandi due dataframe di cui facciamoil collect\n",
    "# per materializzare i dati in un unico iteratore e costruiamo l'array numpy\n",
    "# facendo il reshape alla fine perché la creazione della matrice di confusione richiede \n",
    "# una shape (N,) mentre il collect fornisce un array di righe la cui shape è (N,1)\n",
    "label = np.array(preds.select('label').collect()).reshape(-1)\n",
    "cluster = np.array(preds.select('cluster').collect()).reshape(-1)\n",
    "\n",
    "ConfusionMatrixDisplay.from_predictions(label, cluster, display_labels=np.array(['Setosa','Versicolour','Virginica']),cmap=plt.cm.Blues)"
   ]
  },
  {
   "cell_type": "code",
   "execution_count": 17,
   "metadata": {},
   "outputs": [
    {
     "name": "stdout",
     "output_type": "stream",
     "text": [
      "Purity:  0.88\n",
      "Gini Index:  0.20\n",
      "\n"
     ]
    }
   ],
   "source": [
    "# Calcoliamo le metriche di purity e gini index\n",
    "def cluster_metrics(cm):\n",
    "    \"\"\"Calcolo della purity e dell'indice di Gini da una matrice di confusione\n",
    "\n",
    "    Args:\n",
    "        cm (ndarray): matrice di confusione\n",
    "\n",
    "    Returns:\n",
    "        tuple[float,float]: i due valori di metrica\n",
    "    \"\"\"\n",
    "\n",
    "    Mval = [np.sum(cm[:,i]) for i in range(cm.shape[1])]\n",
    "    \n",
    "    M = np.array(Mval)\n",
    "\n",
    "    Pval = [np.max(cm[:,i]) for i in range(cm.shape[1])]\n",
    "\n",
    "    P = np.array(Pval)\n",
    "\n",
    "    purity = np.sum(P)/np.sum(M)\n",
    "    \n",
    "    gini_val = [np.sum((cm[i,:]/M[i])**2) for i in range(cm.shape[0])]\n",
    "\n",
    "    gini_j = 1 - np.array(gini_val)\n",
    "    \n",
    "    gini = np.dot(gini_j, M)/np.sum(M)\n",
    "    \n",
    "    return purity, gini\n",
    "\n",
    "purity, gini = cluster_metrics(cf)\n",
    "\n",
    "print(f'Purity: {purity:5.2f}\\nGini Index: {gini:5.2f}\\n')"
   ]
  }
 ],
 "metadata": {
  "kernelspec": {
   "display_name": "hadoop",
   "language": "python",
   "name": "python3"
  },
  "language_info": {
   "codemirror_mode": {
    "name": "ipython",
    "version": 3
   },
   "file_extension": ".py",
   "mimetype": "text/x-python",
   "name": "python",
   "nbconvert_exporter": "python",
   "pygments_lexer": "ipython3",
   "version": "3.10.8"
  },
  "orig_nbformat": 4,
  "vscode": {
   "interpreter": {
    "hash": "13d17ad7d73dd0a78c070273267799205d7dd87727cdfb78c252beac87e3d3e5"
   }
  }
 },
 "nbformat": 4,
 "nbformat_minor": 2
}
